{
 "cells": [
  {
   "cell_type": "code",
   "execution_count": 1,
   "id": "8b519b57",
   "metadata": {
    "scrolled": true
   },
   "outputs": [],
   "source": [
    "# pip install pandas openpyxl\n",
    "# pip install pandas jupyter pandarallel requests tqdm\n",
    "# conda install xlwings\n",
    "# conda install docplex\n",
    "# conda install pandas\n",
    "# pip install pandas openpyxl"
   ]
  },
  {
   "cell_type": "code",
   "execution_count": 1,
   "id": "817a45ef",
   "metadata": {},
   "outputs": [],
   "source": [
    "import xlwings as xw\n",
    "import pandas as pd\n",
    "import time\n",
    "import os\n",
    "from docplex.mp.model import Model\n",
    "from docplex.mp.conflict_refiner import ConflictRefiner\n",
    "import numpy as np\n",
    "import math\n",
    "import xlrd\n",
    "from zipfile import ZipFile\n",
    "import shutil\n",
    "import datetime\n",
    "import sys"
   ]
  },
  {
   "cell_type": "code",
   "execution_count": 2,
   "id": "3c39d2b3",
   "metadata": {},
   "outputs": [],
   "source": [
    "#Функция логов\n",
    "def log_print(text, log_file):\n",
    "    with open(log_file, 'a') as f:\n",
    "        print(text, file=f)\n",
    "    print(text)"
   ]
  },
  {
   "cell_type": "code",
   "execution_count": 3,
   "id": "8d33503f",
   "metadata": {},
   "outputs": [],
   "source": [
    "#Подключаемся к файлу\n",
    "try:\n",
    "    wb = xw.Book.caller()\n",
    "except:\n",
    "    wb = xw.Book('C:\\\\Users\\\\mgvse\\\\КЭАЗ\\\\Решатель КЭАЗ.xlsb')\n",
    "#Определяем путь к файлу\n",
    "path=wb.fullname\n",
    "pathLog=path[:(path.rfind('\\\\')+1)]\n",
    "pathLog=pathLog+'logs'\n",
    "log_file = pathLog + '\\\\logs'+time.strftime(\"%Y%m%d-%H%M%S\")+'.txt'\n",
    "\n",
    "#Если папки LOGS нет, то создаем\n",
    "if not os.path.exists(pathLog):\n",
    "        os.mkdir(pathLog)\n",
    "#Вносим данные из настроек интерфейса\n",
    "SPEC_path = xw.Range('SPEC_path').options().value\n",
    "PZ_path = xw.Range('PZ_path').options().value\n",
    "KOLOBOR_path = xw.Range('KOLOBOR_path').options().value\n",
    "OST_path = xw.Range('OST_path').options().value\n",
    "TIME_path = xw.Range('TIME_Path').options(pd.DataFrame, index=False, header=0).value\n",
    "KALEND = xw.Range('Таб_календ').options(pd.DataFrame, index=False, header=0).value\n",
    "gor_plan = xw.Range('gor_plan').options().value\n",
    "gor_plan_max = xw.Range('gor_plan_max').options().value\n",
    "#priority = xw.Range('priority').options().value\n",
    "#raspred = xw.Range('raspred').options().value\n",
    "tab_Ogr=xw.Range('Таб_Ограничения').options(pd.DataFrame, index=False, header=0).value \n",
    "tab_Ogr_zag=xw.Range('Таб_Ограничения_Загаловки').options(pd.DataFrame, index=False, header=0).value\n",
    "timelimit =xw.Range('timelimit').options().value\n",
    "res_ceh_flag =xw.Range('res_ceh_flag').options().value\n",
    "potr_tmc_path = xw.Range('potr_tmc_path').options().value\n",
    "ost_tmc_path = xw.Range('ost_tmc_path').options().value"
   ]
  },
  {
   "cell_type": "code",
   "execution_count": 4,
   "id": "32ae08fd",
   "metadata": {},
   "outputs": [],
   "source": [
    "#функция загрузки файлов\n",
    "def load_xlsx(file_name, skiprows, log_file):\n",
    "    log_print('{0} : Загружаем {1}'.format(time.strftime(\"%d/%m/%Y, %H:%M:%S\",time.localtime()), file_name), log_file)\n",
    "    # Создаем временную папку\n",
    "    tmp_folder = '/tmp/convert_wrong_excel/'\n",
    "    os.makedirs(tmp_folder, exist_ok=True)\n",
    "\n",
    "    # Распаковываем excel как zip в нашу временную папку\n",
    "    with ZipFile(file_name) as excel_container:\n",
    "        excel_container.extractall(tmp_folder)\n",
    "\n",
    "    # Переименовываем файл с неверным названием\n",
    "    wrong_file_path = os.path.join(tmp_folder, 'xl', 'SharedStrings.xml')\n",
    "    correct_file_path = os.path.join(tmp_folder, 'xl', 'sharedStrings.xml')\n",
    "    os.rename(wrong_file_path, correct_file_path) \n",
    "\n",
    "    # Запаковываем excel обратно в zip и переименовываем в исходный файл\n",
    "    shutil.make_archive('yourfile', 'zip', tmp_folder)\n",
    "    os.remove(file_name)\n",
    "    os.rename('yourfile.zip', file_name)\n",
    "    return pd.read_excel(file_name, engine='openpyxl', header = 0, skiprows=skiprows)"
   ]
  },
  {
   "cell_type": "code",
   "execution_count": 5,
   "id": "32218cd9",
   "metadata": {
    "scrolled": true
   },
   "outputs": [
    {
     "name": "stdout",
     "output_type": "stream",
     "text": [
      "22/03/2023, 20:08:24 : Загружаем C:\\Users\\mgvse\\КЭАЗ\\230321Выгрузки\\Спецификация.xlsx\n",
      "22/03/2023, 20:08:50 : Загружаем C:\\Users\\mgvse\\КЭАЗ\\230321Выгрузки\\ПЗ.xlsx\n",
      "22/03/2023, 20:08:50 : Загружаем C:\\Users\\mgvse\\КЭАЗ\\230321Выгрузки\\КолОбор.xlsx\n",
      "22/03/2023, 20:08:50 : Загружаем C:\\Users\\mgvse\\КЭАЗ\\230321Выгрузки\\Остатки.xlsx\n",
      "22/03/2023, 20:08:51 : Загружаем C:\\Users\\mgvse\\КЭАЗ\\230321Выгрузки\\ПотребностьТМЦ.xlsx\n",
      "22/03/2023, 20:08:53 : Загружаем C:\\Users\\mgvse\\КЭАЗ\\230321Выгрузки\\ОстаткиТМЦ.xlsx\n",
      "22/03/2023, 20:08:53 : Загружаем C:\\Users\\mgvse\\КЭАЗ\\230321Выгрузки\\Время работы.xlsx\n",
      "22/03/2023, 20:08:58 : Загружаем C:\\Users\\mgvse\\КЭАЗ\\230321Выгрузки\\Время работы2.xlsx\n"
     ]
    }
   ],
   "source": [
    "#Загружаем файлы\n",
    "SPEC = load_xlsx(SPEC_path[0], int(SPEC_path[1]-2), log_file)\n",
    "PZ = load_xlsx(PZ_path[0], int(PZ_path[1]-2), log_file)\n",
    "KOLOBOR = load_xlsx(KOLOBOR_path[0], int(KOLOBOR_path[1]-2), log_file)\n",
    "OST = load_xlsx(OST_path[0], int(OST_path[1]-2), log_file)\n",
    "POTR = load_xlsx(potr_tmc_path[0], int(potr_tmc_path[1]-2), log_file)\n",
    "OST_TMC = load_xlsx(ost_tmc_path[0], int(ost_tmc_path[1]-2), log_file)\n",
    "for i in TIME_path[0]:\n",
    "    TIME = load_xlsx(i, 3, log_file)"
   ]
  },
  {
   "cell_type": "code",
   "execution_count": 6,
   "id": "ddc26ff5",
   "metadata": {
    "scrolled": true
   },
   "outputs": [
    {
     "name": "stdout",
     "output_type": "stream",
     "text": [
      "22/03/2023, 20:09:02 : Удаляем дубликаты и лишние столбцы\n"
     ]
    }
   ],
   "source": [
    "#Удаляем пустые строки в кол-ве оборудования и дубликаты\n",
    "log_print('{0} : Удаляем дубликаты и лишние столбцы'.format(time.strftime(\"%d/%m/%Y, %H:%M:%S\",time.localtime())), log_file)\n",
    "#KOLOBOR.drop(KOLOBOR[KOLOBOR['Количество оборудования'].isna()].index, inplace= True)\n",
    "KOLOBOR= KOLOBOR.groupby(by = ['Подразделение', 'Рабочий центр'], dropna = True).sum()\n",
    "KOLOBOR.reset_index(inplace = True)\n",
    "KOLOBOR['Рабочий центр'] = KOLOBOR['Рабочий центр'].str.strip()\n",
    "TIME['Рабочий центр'] = TIME['Рабочий центр'].str.strip()\n",
    "SPEC['Рабочий центр'] = SPEC['Рабочий центр'].str.strip()\n",
    "SPEC['Номенклатура вых изд'] = SPEC['Номенклатура вых изд'].str.strip()\n",
    "PZ['Номенклатура'] = PZ['Номенклатура'].str.strip()\n",
    "SPEC['Характеристика номенклатуры вых изд'] = SPEC['Характеристика номенклатуры вых изд'].str.strip()\n",
    "PZ['Характеристика номенклатуры'] = PZ['Характеристика номенклатуры'].str.strip()\n",
    "SPEC['Номенклатура исх комп'] = SPEC['Номенклатура исх комп'].str.strip()\n",
    "SPEC['Характеристика номенклатуры исх комп'] = SPEC['Характеристика номенклатуры исх комп'].str.strip()\n",
    "PZ.drop(PZ[PZ['Количество Остаток'] <= 0].index, inplace = True) #Удаляем строки ПЗ >= 0\n",
    "POTR = POTR[POTR['Количество Конечный остаток'] > 0]\n",
    "KALEND = KALEND[0]\n",
    "KALEND = KALEND.dt.date\n",
    "#заменяем шапку времени работы на даты\n",
    "fromcol = TIME.columns[2:].values\n",
    "tocol =  pd.Series(TIME.columns[2:]).dt.date.values\n",
    "dictionary = dict(zip(fromcol, tocol))\n",
    "TIME.rename(columns=dictionary, inplace = True)\n",
    "#Удаляем лишние столбцы\n",
    "try:\n",
    "    SPEC = SPEC.drop(columns = [np.nan, 'nan.1', 'nan.2'])\n",
    "except: \n",
    "    pass\n",
    "try:\n",
    "    POTR = POTR.drop(columns = [np.nan, 'nan.1', 'nan.2'])\n",
    "except: \n",
    "    pass\n",
    "try:\n",
    "    POTR.drop(columns = ['Unnamed: 1', 'Unnamed: 3', 'Unnamed: 4', 'Unnamed: 7', 'Unnamed: 8'], inplace = True)\n",
    "except: \n",
    "    pass\n",
    "try:\n",
    "    PZ.drop(columns = ['np.nan', 'nan.1'], inplace = True)\n",
    "except: \n",
    "    pass\n",
    "PZ['Дата сдачи'] = pd.to_datetime(PZ['Дата сдачи'], format = '%d.%m.%Y') \n",
    "PZ['Дата сдачи'] = PZ['Дата сдачи'].map(datetime.datetime.date)\n",
    "POTR['Период'] = pd.to_datetime(POTR['Период'], format = '%d.%m.%Y %H:%M:%S').dt.date\n",
    "POTR.reset_index(inplace = True, drop = True)\n",
    "POTR = POTR[POTR['Количество Конечный остаток'] > 0]"
   ]
  },
  {
   "cell_type": "code",
   "execution_count": 7,
   "id": "4a6822d8",
   "metadata": {
    "scrolled": true
   },
   "outputs": [
    {
     "name": "stdout",
     "output_type": "stream",
     "text": [
      "Внимание!!! Нижеприведенные номенклатуры удалены из производственного задания, т.к. по ним нет даных времени выполнения (сек).\n",
      "Вал ГЖИК.715351.003\n",
      "Винт В.М5-6gх14.32.136 ГОСТ 1491-80 ГЖИК.758151.013-19\n",
      "Втулка ГЖИК.713141.023\n",
      "Втулка ГЖИК.758414.002-01\n",
      "Колодка ГЖИК.731173.004\n",
      "Контактодержатель ГЖИК.741352.014\n",
      "Ось ГЖИК.715111.006\n",
      "Ось ГЖИК.715511.046\n",
      "Пластинка фасонная ГЖИК.741376.012\n",
      "Распорка ГЖИК.753362.001\n",
      "Рычаг зацепления ГЖИК.745312.028\n",
      "Стенка ГЖИК.741126.003\n",
      "Стенка ГЖИК.741233.001\n",
      "Стойка левая ГЖИК.745513.002\n",
      "Стоп ГЖИК.711311.001\n",
      "Шайба А.12.01.016 ГОСТ 11371-78\n",
      "Якорь ГЖИК.741121.066\n",
      "Якорь ГЖИК.745412.007\n",
      "Вал ГЖИК.715351.018\n",
      "Вал ГЖИК.746612.202\n",
      "Вал ГЖИК.746612.203\n",
      "Вал ГЖИК.746612.205\n",
      "Вал ГЖИК.746612.208\n",
      "Вал ГЖИК.746612.226\n",
      "Вал ГЖИК.746612.234\n",
      "Вал ГЖИК.746612.242\n",
      "Вал ГЖИК.746612.246\n",
      "Винт В.М3-6gх6.58.016 ГОСТ 17473-80 ГЖИК.758161.001\n",
      "Винт В.М4-6gх10.58.029 ГОСТ 17473-80 ГЖИК.758161.002-12\n",
      "Винт В.М4-6gх8.32.11 ГОСТ 1491-80 ГЖИК.758151.012-06\n",
      "Винт В.М5-6gх10.32.136 ГОСТ 1491-80 ГЖИК.758151.013-12\n",
      "Винт В.М6-6gх12.32.136 ГОСТ 1491-80 ГЖИК.758151.014-07\n",
      "Винт ГЖИК.758151.057\n",
      "Винт ГЖИК.758199.001\n",
      "Винт ГЖИК.758211.007\n",
      "Винт ГЖИК.758211.009\n",
      "Винт М3 ГЖИК.758161.028\n",
      "Винт М3 ГЖИК.758222.008\n",
      "Винт М4х20.58.016 ГЖИК.758151.004-07\n",
      "Винт М4х65.109.40х029 ГЖИК.758151.050-01\n",
      "Винт М4х78.109.40Х.029 ГЖИК.758151.004-02\n",
      "Винт М5х120.58.019 ГЖИК.758151.073-01\n",
      "Винт М5х67.58.0212 ГЖИК.758161.024-02\n",
      "Винт М5х72.58.099 ГЖИК.758161.024-01\n",
      "Винт фасонный ГЖИК.758156.001-01\n",
      "Втулка антифрикционная ГЖИК.711351.028\n",
      "Втулка ГЖИК.711351.022\n",
      "Втулка ГЖИК.711351.024\n",
      "Втулка ГЖИК.711351.038\n",
      "Втулка ГЖИК.713141.014\n",
      "Втулка ГЖИК.713141.023-01\n",
      "Втулка ГЖИК.713341.001-01\n",
      "Втулка ГЖИК.758414.004-01\n",
      "Втулка ГЖИК.758414.011\n",
      "Втулка ГЖИК.758414.014\n",
      "Вывод ГЖИК.715213.005\n",
      "Вывод ГЖИК.741322.004\n",
      "Вывод ГЖИК.741362.009-01\n",
      "Вывод ГЖИК.741362.009-04\n",
      "Вывод ГЖИК.745212.002\n",
      "Вывод ГЖИК.745212.002-01\n",
      "Вывод ГЖИК.745212.002-03\n",
      "Вывод ГЖИК.745212.002-04\n",
      "Вывод ГЖИК.745217.004-02\n",
      "Вывод ГЖИК.745217.017\n",
      "Вывод ГЖИК.745217.017-01\n",
      "Вывод ГЖИК.745217.029\n",
      "Вывод ГЖИК.745217.031\n",
      "Вывод ГЖИК.745236.012\n",
      "Вывод ГЖИК.745242.002\n",
      "Вывод ГЖИК.745256.002\n",
      "Вывод ГЖИК.745513.011\n",
      "Вывод нижний ГЖИК.745217.018\n",
      "Вывод нижний ГЖИК.745217.018-02\n",
      "Вывод нижний ГЖИК.745217.018-03\n",
      "Вывод нижний ГЖИК.745217.018-05\n",
      "Вывод нижний ГЖИК.745217.036\n",
      "Вывод нижний ГЖИК.745217.036-01\n",
      "Вывод нижний ГЖИК.745485.001\n",
      "Вывод нижний ГЖИК.745485.020-03\n",
      "Гайка 2М2,5-6H.5.32.11 ГЖИК.758412.005-01\n",
      "Гайка 2М3-6Н.32.11 ГОСТ 5916-70 ГЖИК.758412.006-02\n",
      "Гайка 2М5-6Н.5.016 ГОСТ 5916-70 ГЖИК.758412.010-01\n",
      "Гайка ГЖИК.741374.046\n",
      "Гайка ГЖИК.741374.053-01\n",
      "Гайка ГЖИК.741374.057\n",
      "Гайка ГЖИК.758449.004\n",
      "Гайка М3 ГЖИК.758458.001\n",
      "Гайка М4 ГЖИК.758458.002\n",
      "Гайка М5 ГЖИК.715351.016\n",
      "Заклепка 3х14,5.01.016 ГЖИК.758318.001-03\n",
      "Заклёпка ГЖИК.758316.015\n",
      "Защелка ГЖИК.745327.022\n",
      "Колодка ГЖИК.745418.007\n",
      "Колпачок 8БУ.307.034\n",
      "Контакт блока 85203249\n",
      "Контакт штыревой ГЖИК.715351.015\n",
      "Контакт штыревой ГЖИК.716311.011-01\n",
      "Контакт штыревой ГЖИК.716311.012\n",
      "Контакт штыревой ГЖИК.716311.013\n",
      "Контактодержатель ГЖИК.741238.002\n",
      "Контактодержатель ГЖИК.741378.005\n",
      "Контактодержатель неподвижный ГЖИК.745425.001-01\n",
      "Контактодержатель неподвижный ГЖИК.745425.002\n",
      "Контактодержатель неподвижный ГЖИК.745428.006\n",
      "Кронштейн ГЖИК.745361.009\n",
      "Магнитопровод 8БУ.616.037\n",
      "Магнитопровод ГЖИК.745361.011\n",
      "Магнитопровод ГЖИК.757263.006\n",
      "Магнитопровод ГЖИК.757263.006-01\n",
      "Магнитопровод ГЖИК.757263.009\n",
      "Направляющая ГЖИК.713351.002\n",
      "Ось ГЖИК.715111.025\n",
      "Ось ГЖИК.715111.053\n",
      "Ось ГЖИК.715111.053-01\n",
      "Ось ГЖИК.715111.056\n",
      "Ось ГЖИК.715111.056-01\n",
      "Ось ГЖИК.715111.058\n",
      "Ось ГЖИК.715111.059\n",
      "Ось ГЖИК.715113.019\n",
      "Ось ГЖИК.715311.005\n",
      "Ось ГЖИК.715311.069\n",
      "Ось ГЖИК.715311.069-01\n",
      "Ось ГЖИК.715311.086\n",
      "Ось ГЖИК.715411.014\n",
      "Ось ГЖИК.715411.017\n",
      "Ось ГЖИК.715411.073\n",
      "Ось ГЖИК.715411.081\n",
      "Ось ГЖИК.715411.089\n",
      "Ось ГЖИК.715411.139-01\n",
      "Ось ГЖИК.715413.006\n",
      "Ось ГЖИК.715511.006\n",
      "Ось ГЖИК.715511.011\n",
      "Ось ГЖИК.715511.016\n",
      "Ось ГЖИК.715511.017\n",
      "Ось ГЖИК.715511.022\n",
      "Ось ГЖИК.715511.030\n",
      "Ось ГЖИК.715511.042\n",
      "Ось ГЖИК.715511.043\n",
      "Ось ГЖИК.716411.002\n",
      "Ось рейки ГЖИК.715412.001\n",
      "Ось рейки ГЖИК.715412.001-01\n",
      "Ось рейки ГЖИК.715413.008\n",
      "Ось упорная 8БУ.205.019\n",
      "Ось упорная ГЖИК.715113.010\n",
      "Ось упорная ГЖИК.715113.011\n",
      "Ось храповика ГЖИК.715511.048\n",
      "Ось храповика ГЖИК.716411.010\n",
      "Петля контактодержателя ГЖИК.745381.018\n",
      "Пластина ГЖИК.741124.016\n",
      "Пластина ГЖИК.741352.002-01\n",
      "Пластина ГЖИК.741352.010-01\n",
      "Пластина ГЖИК.741364.013\n",
      "Пластина ГЖИК.741364.035\n",
      "Пластина ГЖИК.741374.027\n",
      "Плита ГЖИК.745322.024\n",
      "Плита ГЖИК.745322.028\n",
      "Полуось ГЖИК.713311.013\n",
      "Полуось ГЖИК.713311.021\n",
      "Полуось ГЖИК.713311.037\n",
      "Полуось ГЖИК.715311.036\n",
      "Полуось ГЖИК.715311.037\n",
      "Полуось ГЖИК.715311.044\n",
      "Полуось ГЖИК.715311.072\n",
      "Полуось ГЖИК.715311.084\n",
      "Распорка ГЖИК.713451.003\n",
      "Распорка ГЖИК.715411.015\n",
      "Распорка ГЖИК.715411.016\n",
      "Распорка ГЖИК.715411.077\n",
      "Распорка ГЖИК.715411.087\n",
      "Распорка ГЖИК.715411.092\n",
      "Распорка ГЖИК.715411.096\n",
      "Распорка ГЖИК.715411.126\n",
      "Распорка ГЖИК.715411.127\n",
      "Распорка ГЖИК.741362.002\n",
      "Распорка ГЖИК.745135.001-01\n",
      "Рычаг ГЖИК.745312.045\n",
      "Сердечник ГЖИК.757266.003-01\n",
      "Скоба 8БУ.140.088\n",
      "Скоба ГЖИК.745216.008\n",
      "Скоба ГЖИК.745313.002-01\n",
      "Скоба ГЖИК.745317.007\n",
      "Скоба ГЖИК.745533.029\n",
      "Соединение винтовое М4х10 ГЖИК.301612.006-02\n",
      "Соединение винтовое М4х11 ГЖИК.301612.005-08\n",
      "Соединение винтовое М4х11 ГЖИК.301612.006-09\n",
      "Соединение винтовое М4х12 ГЖИК.301612.005-02\n",
      "Соединение винтовое М4х14 ГЖИК.301612.005-03\n",
      "Стержень ГЖИК.741131.044-02\n",
      "Стержень ГЖИК.741131.044-03\n",
      "Стойка ГЖИК.715313.003\n",
      "Стойка ГЖИК.745223.002\n",
      "Стойка ГЖИК.745223.007\n",
      "Стойка ГЖИК.745237.008-01\n",
      "Стойка левая ГЖИК.745167.012\n",
      "Стойка правая ГЖИК.745223.001\n",
      "Стойка правая ГЖИК.745513.009\n",
      "Термоэлемент ГЖИК.741241.018\n",
      "Токовод ГЖИК.745345.004-01\n",
      "Токопровод ГЖИК.715411.090\n",
      "Уголок ГЖИК.745237.009-01\n",
      "Указатель 8БУ.441.020\n",
      "Ушко ГЖИК.741334.011\n",
      "Фиксатор ГЖИК.713311.038\n",
      "Фланец ГЖИК.745222.002\n",
      "Шайба 10 65Г 016 ГОСТ 6402-70 ГЖИК.758486.001-05\n",
      "Шайба 6 65Г 029 ГОСТ 6402-70 ГЖИК.758486.001-13\n",
      "Шпилька М5 ГЖИК.758292.015\n",
      "Штифт D2х24 ГЖИК.758343.001-03\n",
      "Штифт ГЖИК.715111.032\n",
      "Якорь ГЖИК.711351.018\n",
      "Якорь ГЖИК.741354.006\n",
      "Якорь ГЖИК.757279.001\n",
      "Якорь ГЖИК.757279.009\n",
      "Якорь ГЖИК.757279.020\n",
      "Якорь НР ГЖИК.711167.003\n"
     ]
    }
   ],
   "source": [
    "#Удаляем из ПЗ строки, по которым нет производства в секунду\n",
    "temp = SPEC[(SPEC['Время выполнения (сек)'].isna()) & \n",
    "            (SPEC['Номенклатура вых изд'].isin(PZ['Номенклатура']))]['Номенклатура вых изд'].drop_duplicates()\n",
    "#temp = PZ[PZ['Номенклатура'].isin(temp)].reset_index(drop=True)['Номенклатура']\n",
    "if len(temp) > 0:\n",
    "    log_print('Внимание!!! Нижеприведенные номенклатуры удалены из производственного задания, '\n",
    "              +'т.к. по ним нет даных времени выполнения (сек).', log_file)\n",
    "    for i in temp:\n",
    "        log_print(i, log_file)\n",
    "        #PZ.drop(PZ['Номенклатура'] == i, inplace = True)\n",
    "    PZ = PZ[~PZ['Номенклатура'].isin(temp)].reset_index(drop=True)\n",
    "        \n",
    "SPEC['Время выполнения (сек)'].fillna(0.001, inplace = True) #Если нет времени работы, ставим 0.001 секунд        \n",
    "    "
   ]
  },
  {
   "cell_type": "code",
   "execution_count": 8,
   "id": "81a17b14",
   "metadata": {
    "scrolled": true
   },
   "outputs": [
    {
     "name": "stdout",
     "output_type": "stream",
     "text": [
      "22/03/2023, 20:09:02 : Отбираем номенклатуру которая есть в ПЗ\n"
     ]
    },
    {
     "name": "stderr",
     "output_type": "stream",
     "text": [
      "C:\\Users\\mgvse\\Anaconda3\\envs\\py36\\lib\\site-packages\\ipykernel_launcher.py:11: SettingWithCopyWarning: \n",
      "A value is trying to be set on a copy of a slice from a DataFrame\n",
      "\n",
      "See the caveats in the documentation: https://pandas.pydata.org/pandas-docs/stable/user_guide/indexing.html#returning-a-view-versus-a-copy\n",
      "  # This is added back by InteractiveShellApp.init_path()\n",
      "C:\\Users\\mgvse\\Anaconda3\\envs\\py36\\lib\\site-packages\\ipykernel_launcher.py:12: SettingWithCopyWarning: \n",
      "A value is trying to be set on a copy of a slice from a DataFrame\n",
      "\n",
      "See the caveats in the documentation: https://pandas.pydata.org/pandas-docs/stable/user_guide/indexing.html#returning-a-view-versus-a-copy\n",
      "  if sys.path[0] == '':\n"
     ]
    }
   ],
   "source": [
    "#Отбираем номенклатуру которая есть в ПЗ или в исходных номенклатурах\n",
    "log_print('{0} : Отбираем номенклатуру которая есть в ПЗ'.format(time.strftime(\"%d/%m/%Y, %H:%M:%S\",time.localtime())), log_file)\n",
    "SPEC2 = pd.DataFrame()\n",
    "nom_temp = PZ['Номенклатура']\n",
    "nom_temp.dropna(inplace = True)\n",
    "SPEC_temp = SPEC[SPEC['Номенклатура вых изд'].isin(nom_temp)]\n",
    "SPEC2 = SPEC_temp.copy()\n",
    "\n",
    "while len(nom_temp) > 0:\n",
    "    nom_temp = SPEC_temp['Номенклатура исх комп']\n",
    "    nom_temp.dropna(inplace = True)\n",
    "    nom_temp.drop_duplicates(inplace = True)\n",
    "    SPEC_temp = SPEC[(SPEC['Номенклатура вых изд'].isin(nom_temp)) & \n",
    "                     (SPEC['Номенклатура вых изд'] != SPEC['Номенклатура исх комп'])]\n",
    "    SPEC2 = SPEC2.append(SPEC_temp)\n",
    "    \n",
    "SPEC = SPEC2.drop_duplicates().copy()\n",
    "SPEC.reset_index(inplace = True, drop = True)  \n",
    "\n",
    "nom_temp = SPEC['Номенклатура вых изд'].drop_duplicates()\n",
    "POTR = POTR[POTR['Номенклатура'].isin(nom_temp)]\n",
    "POTR.reset_index(inplace = True, drop = True)\n"
   ]
  },
  {
   "cell_type": "code",
   "execution_count": 9,
   "id": "ec20aa70",
   "metadata": {},
   "outputs": [],
   "source": [
    "#Считаем производство в минуту\n",
    "SPEC['Производство в минуту'] = SPEC.apply(lambda x: round(x['Количество вых изд'] / x['Время выполнения (сек)'] * 60, 2), axis = 1)"
   ]
  },
  {
   "cell_type": "code",
   "execution_count": 10,
   "id": "301fbf7f",
   "metadata": {},
   "outputs": [],
   "source": [
    "#Определяем предыдущую операцию (функция)\n",
    "def pred_op(x, BD):\n",
    "    #Определяем сколько строк с такми-же показателями\n",
    "    TEMP = BD[(BD['Номенклатура вых изд'] == x['Номенклатура вых изд']) \n",
    "     & (BD['Характеристика номенклатуры вых изд'] == x['Характеристика номенклатуры вых изд']) \n",
    "     & (BD['Номер операции тех карта'] == x['Номер операции тех карта'])\n",
    "     & (BD.index < x.name)]\n",
    "    if len(TEMP) > 0:\n",
    "        #Для одинаковых номеров техопераций берем предыдущий индекс\n",
    "        TEMP = TEMP[TEMP.index == TEMP.index.max()].index\n",
    "    else:\n",
    "        #Определяем по тем-же характиристикам с меньшими номерами операций\n",
    "        TEMP = BD[(BD['Номенклатура вых изд'] == x['Номенклатура вых изд']) \n",
    "         & (BD['Характеристика номенклатуры вых изд'] == x['Характеристика номенклатуры вых изд']) \n",
    "         & (BD['Номер операции тех карта'] < x['Номер операции тех карта'])]\n",
    "        TEMP = TEMP[TEMP['Номер операции тех карта'] == TEMP['Номер операции тех карта'].max()].index\n",
    "\n",
    "        if len(TEMP) == 0:\n",
    "            #Если не нашли, определяем по исх комплектующим\n",
    "            if pd.notna(x['Номенклатура исх комп']):\n",
    "                TEMP = BD[(BD['Номенклатура вых изд'] == x['Номенклатура исх комп']) \n",
    "                 & (BD['Характеристика номенклатуры вых изд'] == x['Характеристика номенклатуры исх комп'])]\n",
    "                TEMP = TEMP[TEMP['Номер операции тех карта'] == TEMP['Номер операции тех карта'].max()].index\n",
    "    if len(TEMP) > 0:\n",
    "        return TEMP[-1]\n"
   ]
  },
  {
   "cell_type": "code",
   "execution_count": 11,
   "id": "3464e835",
   "metadata": {},
   "outputs": [
    {
     "name": "stdout",
     "output_type": "stream",
     "text": [
      "22/03/2023, 20:09:03 : Определяем предыдущую операцию\n"
     ]
    }
   ],
   "source": [
    "#Определяем предыдущую операцию\n",
    "log_print('{0} : Определяем предыдущую операцию'.format(time.strftime(\"%d/%m/%Y, %H:%M:%S\",time.localtime())), log_file)\n",
    "SPEC['предыдущая операция'] = SPEC.apply(pred_op, BD = SPEC, axis = 1)"
   ]
  },
  {
   "cell_type": "code",
   "execution_count": 12,
   "id": "c5a7cfda",
   "metadata": {},
   "outputs": [],
   "source": [
    "#Вносим остатки (функция)\n",
    "def ost_conect(x, SPEC):\n",
    "    TEMP = SPEC[(SPEC['Номенклатура вых изд'] == x['Номенклатура']) & (SPEC['Характеристика номенклатуры вых изд'] == x['Характеристика номенклатуры'])]\n",
    "    TEMP = TEMP[TEMP['Номер операции тех карта'] == TEMP['Номер операции тех карта'].max()].index\n",
    "    if len(TEMP) > 0:\n",
    "        return TEMP[-1]"
   ]
  },
  {
   "cell_type": "code",
   "execution_count": 13,
   "id": "a3773fd7",
   "metadata": {
    "scrolled": false
   },
   "outputs": [
    {
     "name": "stdout",
     "output_type": "stream",
     "text": [
      "22/03/2023, 20:09:14 : Вносим остатки\n"
     ]
    }
   ],
   "source": [
    "#Вносим остатки\n",
    "log_print('{0} : Вносим остатки'.format(time.strftime(\"%d/%m/%Y, %H:%M:%S\",time.localtime())), log_file)\n",
    "OST['Индекс в базе'] = OST.apply(ost_conect, SPEC = SPEC, axis = 1)\n",
    "for n in OST.index:\n",
    "    if not np.isnan(OST.loc[n, 'Индекс в базе']):\n",
    "        SPEC.loc[OST.loc[n, 'Индекс в базе'], 'Остаток на начало'] = OST.loc[n, 'Количество Остаток']\n",
    "SPEC['Остаток на начало'].fillna(0, inplace = True)\n",
    "    "
   ]
  },
  {
   "cell_type": "code",
   "execution_count": 14,
   "id": "1481460c",
   "metadata": {
    "scrolled": true
   },
   "outputs": [
    {
     "name": "stdout",
     "output_type": "stream",
     "text": [
      "22/03/2023, 20:09:15 : Вносим потребление\n"
     ]
    }
   ],
   "source": [
    "#Вносим потребление\n",
    "log_print('{0} : Вносим потребление'.format(time.strftime(\"%d/%m/%Y, %H:%M:%S\",time.localtime())), log_file)\n",
    "SPEC['Строки потребления'] = SPEC.apply(lambda x, SPEC: SPEC[SPEC['предыдущая операция'] == x.name].index.values.tolist(), args = [SPEC], axis = 1)"
   ]
  },
  {
   "cell_type": "code",
   "execution_count": 15,
   "id": "c75f108b",
   "metadata": {},
   "outputs": [],
   "source": [
    "#Определяение промежуточной строки (функция)\n",
    "def prom_str(x, SPEC):\n",
    "    \n",
    "    if len(x['Строки потребления']) == 1:\n",
    "        if ((x['Номенклатура вых изд'] == SPEC.loc[x['Строки потребления'][0], 'Номенклатура вых изд']) \n",
    "            & (x['Характеристика номенклатуры вых изд'] == \n",
    "               SPEC.loc[x['Строки потребления'][0], 'Характеристика номенклатуры вых изд'])):\n",
    "            return 1\n",
    "    return 0\n"
   ]
  },
  {
   "cell_type": "code",
   "execution_count": 16,
   "id": "489c7d18",
   "metadata": {
    "scrolled": true
   },
   "outputs": [
    {
     "name": "stdout",
     "output_type": "stream",
     "text": [
      "22/03/2023, 20:09:17 : Определяение промежуточной строки\n"
     ]
    }
   ],
   "source": [
    "#Определяение промежуточной строки\n",
    "log_print('{0} : Определяение промежуточной строки'.format(time.strftime(\"%d/%m/%Y, %H:%M:%S\",time.localtime())), log_file)\n",
    "SPEC['Промежуточная операция'] = SPEC.apply(prom_str, axis = 1, args = [SPEC])\n"
   ]
  },
  {
   "cell_type": "code",
   "execution_count": 18,
   "id": "cc6648b7",
   "metadata": {},
   "outputs": [
    {
     "name": "stdout",
     "output_type": "stream",
     "text": [
      "22/03/2023, 20:09:17 : Определяем строки в потреблении.\n"
     ]
    }
   ],
   "source": [
    "#Определяем строки в Потреблении\n",
    "log_print('{0} : Определяем строки в потреблении.'.format(time.strftime(\"%d/%m/%Y, %H:%M:%S\",time.localtime())), log_file)\n",
    "POTR['Индекс в базе'] = POTR.apply(ost_conect, SPEC = SPEC, axis = 1)\n",
    "POTR.dropna(subset = ['Индекс в базе'], inplace = True)"
   ]
  },
  {
   "cell_type": "code",
   "execution_count": 19,
   "id": "271a4eaa",
   "metadata": {
    "scrolled": true
   },
   "outputs": [
    {
     "name": "stdout",
     "output_type": "stream",
     "text": [
      "22/03/2023, 20:09:20 : Определяем строки ПЗ и кол-во оборудования\n"
     ]
    }
   ],
   "source": [
    "#Определяем строки ПЗ и кол-во оборудования\n",
    "log_print('{0} : Определяем строки ПЗ и кол-во оборудования'.format(time.strftime(\"%d/%m/%Y, %H:%M:%S\",time.localtime())), log_file)\n",
    "PZ['Индекс в базе'] = PZ.apply(ost_conect, SPEC = SPEC, axis = 1)\n",
    "SPEC['строка ПЗ'] = SPEC.apply(lambda x, PZ: PZ[PZ['Индекс в базе'] == x.name].index.tolist(), axis = 1, args = [PZ])\n",
    "SPEC['ПЗ'] = SPEC.apply(lambda x, PZ: PZ.loc[x['строка ПЗ'], 'Количество Остаток'].sum(), axis = 1, args = [PZ])\n",
    "SPEC['Кол-во оборуд'] = SPEC.apply(lambda x, KOLOBOR: KOLOBOR[KOLOBOR['Рабочий центр'] == x['Рабочий центр']]\n",
    "                                 ['Количество оборудования'].max(), axis = 1, args = [KOLOBOR])"
   ]
  },
  {
   "cell_type": "code",
   "execution_count": 20,
   "id": "8c14fddb",
   "metadata": {
    "scrolled": true
   },
   "outputs": [
    {
     "name": "stdout",
     "output_type": "stream",
     "text": [
      "22/03/2023, 20:09:28 : Горизонт планирования - 88.0 дней (2023-07-24):\n",
      "                                    Рабочий центр  Кол-во дней на ПЗ\n",
      "0                            Мультиформер ВО28-12               78.0\n",
      "1     Автомат пружинонавивочный с ЧПУ SIMCO цех44               72.0\n",
      "2                  Вакуумная электропечь \"Вега-5\"               50.0\n",
      "3  Автомат продольного точения  с ЧПУ HANWHA XP16               48.0\n",
      "4                      Верстак участок ВМ (уч.ВМ)               42.0\n",
      "5                ТПА с объемом впрыска до 800 см3               39.0\n",
      "6            Станок плоскошлифовальный участок 02               35.0\n",
      "7                          Мультиформер YLSK-1240               34.0\n",
      "8        Станок резьбонарезной JY-6516 участок 02               31.0\n",
      "9                  Шахтная электропечь СШЦМ 6.6/9               30.0\n"
     ]
    }
   ],
   "source": [
    "#Определяем даты\n",
    "cur_date = xw.Range('cur_date').options().value.date()\n",
    "KALEND = KALEND[KALEND >= cur_date].reset_index(drop=True)\n",
    "#max_date = KALEND[KALEND >= PZ['Дата сдачи'].max()].reset_index(drop = True)[gor_plan]\n",
    "\n",
    "SPEC['Кол-во дней на ПЗ'] = SPEC.apply(lambda x, PZ: PZ[PZ['Номенклатура'] == x['Номенклатура вых изд']]['Количество Остаток'].sum() *\n",
    "                                       x['Время выполнения (сек)'] / x['Кол-во оборуд'] / 60 / 60 / 8 , axis = 1, args = [PZ])\n",
    "kol_days_PZ = SPEC[['Рабочий центр', 'Кол-во дней на ПЗ']].groupby('Рабочий центр').sum()\n",
    "kol_days_PZ.sort_values(by = 'Кол-во дней на ПЗ', ascending=False, inplace = True)\n",
    "kol_days_PZ = kol_days_PZ.head(10)\n",
    "kol_days_PZ = kol_days_PZ.round({'Кол-во дней на ПЗ':0})\n",
    "kol_days_PZ.reset_index(inplace = True)\n",
    "kol_date = kol_days_PZ.loc[0, 'Кол-во дней на ПЗ'] + gor_plan\n",
    "max_date = KALEND[kol_date]\n",
    "log_print('{0} : Горизонт планирования - {1} дней ({2}):'.format(time.strftime(\"%d/%m/%Y, %H:%M:%S\",time.localtime()), \n",
    "                                                           kol_date, max_date), log_file)\n",
    "log_print(kol_days_PZ, log_file)\n",
    "if kol_date > gor_plan_max:\n",
    "    log_print('{0} : Горизонт планирования превысил максимальное значение.'.format(time.strftime(\"%d/%m/%Y, %H:%M:%S\",time.localtime())), log_file)\n",
    "    sys.exit()\n",
    "KALEND = KALEND[KALEND <= max_date]"
   ]
  },
  {
   "cell_type": "code",
   "execution_count": 21,
   "id": "3e9f3efa",
   "metadata": {},
   "outputs": [],
   "source": [
    "#Отнимает от потребностей ТМЦ остатки ТМЦ (функция)\n",
    "def cor_potr(x, OST_TMC):\n",
    "    ost_sum = OST_TMC[(OST_TMC['Номенклатура'] == x['Номенклатура']) \n",
    "                      & (OST_TMC['Характеристика номенклатуры'] == x['Характеристика номенклатуры'])]['Количество Остаток'].sum()\n",
    "    if x['Количество Конечный остаток'] <= ost_sum:\n",
    "        return 0\n",
    "    else:\n",
    "        return x['Количество Конечный остаток'] - ost_sum"
   ]
  },
  {
   "cell_type": "code",
   "execution_count": 23,
   "id": "965c237c",
   "metadata": {
    "scrolled": true
   },
   "outputs": [],
   "source": [
    "#Отнимаем от потребностей ТМЦ остатки ТМЦ\n",
    "log_print('{0} : Отнимаем от потребностей ТМЦ остатки ТМЦ'.format(time.strftime(\"%d/%m/%Y, %H:%M:%S\",time.localtime())), log_file)\n",
    "POTR = POTR[POTR['Период'] <= max_date]\n",
    "POTR['Потребность с учетом остатка'] = POTR.apply(cor_potr, axis = 1, args = [OST_TMC])\n",
    "POTR = POTR[POTR['Потребность с учетом остатка'] > 0]\n",
    "POTR.reset_index(drop = True, inplace = True)"
   ]
  },
  {
   "cell_type": "code",
   "execution_count": 24,
   "id": "8d4f23c5",
   "metadata": {
    "scrolled": true
   },
   "outputs": [],
   "source": [
    "#Проверка потребностей\n",
    "log_print('{0} : Проверка потребностей'.format(time.strftime(\"%d/%m/%Y, %H:%M:%S\",time.localtime())), log_file)\n",
    "POTR['Кол-во дней'] = POTR.apply(lambda x : KALEND[KALEND == x['Период']].index.values.max() + 1, axis = 1)\n",
    "POTR['Среднедневная потребность'] = POTR.apply(lambda x: x['Потребность с учетом остатка'] / x['Кол-во дней'], axis = 1)\n",
    "POTR_MAX = POTR[['Номенклатура', 'Среднедневная потребность']].groupby('Номенклатура').max()\n",
    "POTR_MAX.reset_index(inplace = True)\n",
    "SPEC_TEMP = SPEC[['Номенклатура вых изд', 'Рабочий центр', 'Производство в минуту', 'Кол-во оборуд']].drop_duplicates()\n",
    "SPEC_TEMP['Среднедневная потребность'] = SPEC_TEMP.apply(\n",
    "    lambda x : POTR_MAX[POTR_MAX['Номенклатура'] == x['Номенклатура вых изд']]['Среднедневная потребность'].max(), axis = 1\n",
    ").fillna(0)\n",
    "SPEC_TEMP['Средняя потребность, ч'] = (SPEC_TEMP['Среднедневная потребность'] \n",
    "                                            / SPEC_TEMP['Кол-во оборуд'] \n",
    "                                            / SPEC_TEMP['Производство в минуту']\n",
    "                                            / 60)\n",
    "RC_TEMP_F = SPEC_TEMP[['Рабочий центр', 'Средняя потребность, ч']].groupby('Рабочий центр').sum()\n",
    "RC_TEMP_F.sort_values(by = 'Средняя потребность, ч', ascending=False, inplace = True)\n",
    "RC_TEMP = RC_TEMP_F[RC_TEMP_F['Средняя потребность, ч'] > 8]\n",
    "RC_TEMP.reset_index(inplace = True)\n",
    "if len(RC_TEMP) > 0:\n",
    "    log_print('{0} : Потребности сборочного цеха неосуществимы.'.format(time.strftime(\"%d/%m/%Y, %H:%M:%S\",time.localtime()))\n",
    "              , log_file)\n",
    "    log_print(RC_TEMP, log_file)\n",
    "    log_print('----------------------------------------', log_file)\n",
    "    log_print(SPEC_TEMP[['Номенклатура вых изд', 'Рабочий центр', 'Средняя потребность, ч']]\n",
    "              [SPEC_TEMP['Рабочий центр'].isin(RC_TEMP['Рабочий центр'])], log_file)\n",
    "    sys.exit()"
   ]
  },
  {
   "cell_type": "code",
   "execution_count": 25,
   "id": "aa60fa7d",
   "metadata": {},
   "outputs": [],
   "source": [
    "#Расчет коэфициента (функция)\n",
    "def K_count(x, cur_date, max_date, PZ):\n",
    "    K = 0\n",
    "    PZ_temp = PZ[PZ['Номенклатура'] == x['Номенклатура вых изд']]\n",
    "    date_temp = x['День']\n",
    "    if len(PZ_temp) > 0:\n",
    "        K +=  (PZ_temp.apply(lambda x2: ((max_date - x2['Дата сдачи']).days + 1) * x2['Количество Остаток'], axis = 1).sum() \n",
    "               / PZ_temp['Количество Остаток'].sum() * (x['Номер дня'] +1))\n",
    "    else:\n",
    "        K = 0.01 * (x['Номер дня']+1)\n",
    "    return K\n",
    "        "
   ]
  },
  {
   "cell_type": "code",
   "execution_count": 26,
   "id": "823ba1d9",
   "metadata": {
    "scrolled": true
   },
   "outputs": [
    {
     "name": "stdout",
     "output_type": "stream",
     "text": [
      "22/03/2023, 20:09:33 : Формируем базу данных\n",
      "2023-03-16\n",
      "2023-03-17\n",
      "2023-03-20\n",
      "2023-03-21\n",
      "2023-03-22\n",
      "2023-03-23\n",
      "2023-03-24\n",
      "2023-03-27\n",
      "2023-03-28\n",
      "2023-03-29\n",
      "2023-03-30\n",
      "2023-03-31\n",
      "2023-04-03\n",
      "2023-04-04\n",
      "2023-04-05\n",
      "2023-04-06\n",
      "2023-04-07\n",
      "2023-04-10\n",
      "2023-04-11\n",
      "2023-04-12\n",
      "2023-04-13\n",
      "2023-04-14\n",
      "2023-04-17\n",
      "2023-04-18\n",
      "2023-04-19\n",
      "2023-04-20\n",
      "2023-04-21\n",
      "2023-04-24\n",
      "2023-04-25\n",
      "2023-04-26\n",
      "2023-04-27\n",
      "2023-04-28\n",
      "2023-05-02\n",
      "2023-05-03\n",
      "2023-05-04\n",
      "2023-05-05\n",
      "2023-05-10\n",
      "2023-05-11\n",
      "2023-05-12\n",
      "2023-05-15\n",
      "2023-05-16\n",
      "2023-05-17\n",
      "2023-05-18\n",
      "2023-05-19\n",
      "2023-05-22\n",
      "2023-05-23\n",
      "2023-05-24\n",
      "2023-05-25\n",
      "2023-05-26\n",
      "2023-05-29\n",
      "2023-05-30\n",
      "2023-05-31\n",
      "2023-06-01\n",
      "2023-06-02\n",
      "2023-06-05\n",
      "2023-06-06\n",
      "2023-06-07\n",
      "2023-06-08\n",
      "2023-06-09\n",
      "2023-06-13\n",
      "2023-06-14\n",
      "2023-06-15\n",
      "2023-06-16\n",
      "2023-06-19\n",
      "2023-06-20\n",
      "2023-06-21\n",
      "2023-06-22\n",
      "2023-06-23\n",
      "2023-06-26\n",
      "2023-06-27\n",
      "2023-06-28\n",
      "2023-06-29\n",
      "2023-06-30\n",
      "2023-07-03\n",
      "2023-07-04\n",
      "2023-07-05\n",
      "2023-07-06\n",
      "2023-07-07\n",
      "2023-07-10\n",
      "2023-07-11\n",
      "2023-07-12\n",
      "2023-07-13\n",
      "2023-07-14\n",
      "2023-07-17\n",
      "2023-07-18\n",
      "2023-07-19\n",
      "2023-07-20\n",
      "2023-07-21\n",
      "2023-07-24\n"
     ]
    }
   ],
   "source": [
    "#Разбиваем по дням\n",
    "log_print('{0} : Формируем базу данных'.format(time.strftime(\"%d/%m/%Y, %H:%M:%S\",time.localtime())), log_file)\n",
    "BD = pd.DataFrame()\n",
    "day_len = len(SPEC)\n",
    "for day in KALEND.index:\n",
    "    log_print(KALEND[day] , log_file)\n",
    "    TEMP = SPEC.copy()\n",
    "    TEMP['День'] = KALEND[day]\n",
    "    TEMP['Номер дня'] = day\n",
    "    #определяем сумму коэффициента превышения ПЗ\n",
    "    #Ищем ПЗ с наименьшей датой\n",
    "    TEMP['минимальная дата ПЗ'] = TEMP.apply(lambda x, PZ: PZ.loc[x['строка ПЗ']]['Дата сдачи'].min(), \n",
    "                                             axis = 1, args = [PZ])\n",
    "    #TEMP['минимальная дата ПЗ'].fillna(max_date, inplace = True)\n",
    "    TEMP['Коэффициент'] =TEMP.apply(K_count, axis = 1, args = [cur_date, max_date, PZ])\n",
    "    TEMP['предыдущая операция'] = SPEC['предыдущая операция'] + day_len * day\n",
    "    TEMP['Строки потребления'] = TEMP.apply(lambda x, day_len, day: [i + day_len * day for i in x['Строки потребления']], args = [day_len, day], axis = 1)\n",
    "    BD = pd.concat([BD, TEMP])\n",
    "BD.reset_index(inplace = True, drop=True)"
   ]
  },
  {
   "cell_type": "code",
   "execution_count": 27,
   "id": "3e826060",
   "metadata": {
    "scrolled": false
   },
   "outputs": [
    {
     "name": "stdout",
     "output_type": "stream",
     "text": [
      "22/03/2023, 20:18:05 : Инициализируем модель\n"
     ]
    }
   ],
   "source": [
    "#Инициализируем модель\n",
    "log_print('{0} : Инициализируем модель'.format(time.strftime(\"%d/%m/%Y, %H:%M:%S\",time.localtime())), log_file)\n",
    "model = Model(name='Optim_KEAZ')"
   ]
  },
  {
   "cell_type": "code",
   "execution_count": 28,
   "id": "99d35b57",
   "metadata": {
    "scrolled": true
   },
   "outputs": [
    {
     "name": "stdout",
     "output_type": "stream",
     "text": [
      "22/03/2023, 20:18:05 : Определяем переменные\n"
     ]
    }
   ],
   "source": [
    "#Определяем переменные\n",
    "log_print('{0} : Определяем переменные'.format(time.strftime(\"%d/%m/%Y, %H:%M:%S\",time.localtime())), log_file)\n",
    "vars_time = []\n",
    "vars_ost = []\n",
    "for n_str in range(len(BD)):\n",
    "    vars_time.append(model.continuous_var(lb = 0, name = 'var_time_'+str(n_str%day_len)+'_'+str(n_str//day_len))) #Время производства\n",
    "    vars_ost.append(model.continuous_var(lb = 0, name = 'var_ost_'+str(n_str%day_len)+'_'+str(n_str//day_len))) #Остаток на конец дня"
   ]
  },
  {
   "cell_type": "code",
   "execution_count": 29,
   "id": "8e5a2d40",
   "metadata": {},
   "outputs": [
    {
     "name": "stdout",
     "output_type": "stream",
     "text": [
      "22/03/2023, 20:18:20 : Расчет остатка\n"
     ]
    }
   ],
   "source": [
    "#Расчет остатка\n",
    "log_print('{0} : Расчет остатка'.format(time.strftime(\"%d/%m/%Y, %H:%M:%S\",time.localtime())), log_file)\n",
    "for n_str in range(len(BD)):   \n",
    "    model.add_constraint(vars_ost[n_str] == (SPEC.loc[n_str, 'Остаток на начало'] if BD.loc[n_str, 'Номер дня'] == 0 else\n",
    "                        vars_ost[n_str - day_len]) + vars_time[n_str] * BD.loc[n_str, 'Производство в минуту']  - \n",
    "                         (model.sum([vars_time[i] * BD.loc[i, 'Производство в минуту'] for i in BD.loc[n_str, 'Строки потребления']]) \n",
    "                          if len(BD.loc[n_str, 'Строки потребления']) > 0 else 0), ctname = 'con_ost_' +str(n_str%day_len)+'_'+str(n_str//day_len))\n",
    "    "
   ]
  },
  {
   "cell_type": "code",
   "execution_count": 30,
   "id": "35919e3a",
   "metadata": {
    "scrolled": true
   },
   "outputs": [
    {
     "name": "stdout",
     "output_type": "stream",
     "text": [
      "22/03/2023, 20:19:04 : Вносим ограничения (время в день)\n",
      "2023-03-16\n",
      "2023-03-17\n",
      "2023-03-20\n",
      "2023-03-21\n",
      "2023-03-22\n",
      "2023-03-23\n",
      "2023-03-24\n",
      "2023-03-27\n",
      "2023-03-28\n",
      "2023-03-29\n",
      "2023-03-30\n",
      "2023-03-31\n",
      "2023-04-03\n",
      "2023-04-04\n",
      "2023-04-05\n",
      "2023-04-06\n",
      "2023-04-07\n",
      "2023-04-10\n",
      "2023-04-11\n",
      "2023-04-12\n",
      "2023-04-13\n",
      "2023-04-14\n",
      "2023-04-17\n",
      "2023-04-18\n",
      "2023-04-19\n",
      "2023-04-20\n",
      "2023-04-21\n",
      "2023-04-24\n",
      "2023-04-25\n",
      "2023-04-26\n",
      "2023-04-27\n",
      "2023-04-28\n",
      "2023-05-02\n",
      "2023-05-03\n",
      "2023-05-04\n",
      "2023-05-05\n",
      "2023-05-10\n",
      "2023-05-11\n",
      "2023-05-12\n",
      "2023-05-15\n",
      "2023-05-16\n",
      "2023-05-17\n",
      "2023-05-18\n",
      "2023-05-19\n",
      "2023-05-22\n",
      "2023-05-23\n",
      "2023-05-24\n",
      "2023-05-25\n",
      "2023-05-26\n",
      "2023-05-29\n",
      "2023-05-30\n",
      "2023-05-31\n",
      "2023-06-01\n",
      "2023-06-02\n",
      "2023-06-05\n",
      "2023-06-06\n",
      "2023-06-07\n",
      "2023-06-08\n",
      "2023-06-09\n",
      "2023-06-13\n",
      "2023-06-14\n",
      "2023-06-15\n",
      "2023-06-16\n",
      "2023-06-19\n",
      "2023-06-20\n",
      "2023-06-21\n",
      "2023-06-22\n",
      "2023-06-23\n",
      "2023-06-26\n",
      "2023-06-27\n",
      "2023-06-28\n",
      "2023-06-29\n",
      "2023-06-30\n",
      "2023-07-03\n",
      "2023-07-04\n",
      "2023-07-05\n",
      "2023-07-06\n",
      "2023-07-07\n",
      "2023-07-10\n",
      "2023-07-11\n",
      "2023-07-12\n",
      "2023-07-13\n",
      "2023-07-14\n",
      "2023-07-17\n",
      "2023-07-18\n",
      "2023-07-19\n",
      "2023-07-20\n",
      "2023-07-21\n",
      "2023-07-24\n"
     ]
    }
   ],
   "source": [
    "#Ограничения (время в день)\n",
    "log_print('{0} : Вносим ограничения (время в день)'.format(time.strftime(\"%d/%m/%Y, %H:%M:%S\",time.localtime())), log_file)\n",
    "TEMP_TIME = SPEC['Рабочий центр'].drop_duplicates()\n",
    "TEMP_TIME.reset_index(inplace = True, drop = True)\n",
    "n = 0\n",
    "for day in KALEND:\n",
    "    log_print(day, log_file)\n",
    "    TEMP_DAY = BD[BD['День'] == day]\n",
    "    for n_rc in TEMP_TIME.index:\n",
    "        n+=1\n",
    "        kol_ob = KOLOBOR[(KOLOBOR['Рабочий центр'] == TEMP_TIME.loc[n_rc]) \n",
    "                        ]['Количество оборудования'].max()\n",
    "        if np.isnan(kol_ob):\n",
    "            kol_ob = 1\n",
    "        time_work_temp = TIME[(TIME['Рабочий центр'] == TEMP_TIME.loc[n_rc]) \n",
    "                             ].reset_index(drop=True)\n",
    "        try:\n",
    "            time_work = time_work_temp.loc[0, day]\n",
    "        except:\n",
    "            time_work = 8\n",
    "        \n",
    "        timeForAll = kol_ob * time_work * 60\n",
    "        var_ind_temp = TEMP_DAY[(TEMP_DAY['Рабочий центр'] == TEMP_TIME.loc[n_rc]) \n",
    "                               ].index.to_list()\n",
    "        if len(var_ind_temp) > 0:\n",
    "            model.add_constraint(model.sum(vars_time[i] for i in var_ind_temp) <= int(timeForAll), ctname = 'con_time_'+str(n))"
   ]
  },
  {
   "cell_type": "code",
   "execution_count": 31,
   "id": "dc06e427",
   "metadata": {},
   "outputs": [
    {
     "name": "stdout",
     "output_type": "stream",
     "text": [
      "22/03/2023, 20:19:50 : Вносим ограничения кол-во ПЗ <= остаток на последний день\n"
     ]
    }
   ],
   "source": [
    "# Ограничение кол-во ПЗ <= остаток на последний день\n",
    "log_print('{0} : Вносим ограничения кол-во ПЗ <= остаток на последний день'\n",
    "          .format(time.strftime(\"%d/%m/%Y, %H:%M:%S\",time.localtime())), log_file)\n",
    "TEMP_DAY = BD[(BD['День'] == max_date) & (BD['строка ПЗ'].map(len) > 0)]\n",
    "for n_str in TEMP_DAY.index:\n",
    "    PZ_sum = PZ.loc[TEMP_DAY.loc[n_str, 'строка ПЗ'], 'Количество Остаток'].sum()\n",
    "    model.add_constraint(vars_ost[n_str] >= PZ_sum, ctname = 'con_PZ_'+str(n_str))"
   ]
  },
  {
   "cell_type": "code",
   "execution_count": 32,
   "id": "384afa49",
   "metadata": {
    "scrolled": true
   },
   "outputs": [
    {
     "name": "stdout",
     "output_type": "stream",
     "text": [
      "22/03/2023, 20:19:50 : Вносим ограничения по потребности ТМЦ для сборочного цеха\n"
     ]
    }
   ],
   "source": [
    "#Ограничение по потребности ТМЦ\n",
    "log_print('{0} : Вносим ограничения по потребности ТМЦ для сборочного цеха'\n",
    "          .format(time.strftime(\"%d/%m/%Y, %H:%M:%S\",time.localtime())), log_file)\\\n",
    "\n",
    "POTR['Индекс в базе 2'] = POTR.apply(lambda x: x['Индекс в базе'] + day_len * (x['Кол-во дней'] - 1), axis = 1)\n",
    "\n",
    "ind = POTR['Индекс в базе 2']\n",
    "potr = POTR['Потребность с учетом остатка']\n",
    "\n",
    "for n_str in POTR.index:\n",
    "    model.add_constraint(vars_ost[int(ind[n_str])] >= potr[n_str], ctname = 'con_TMC_' + str(n_str))\n"
   ]
  },
  {
   "cell_type": "code",
   "execution_count": 33,
   "id": "f18689e9",
   "metadata": {},
   "outputs": [
    {
     "name": "stdout",
     "output_type": "stream",
     "text": [
      "22/03/2023, 20:19:51 : Ограничение все промежуточные операции имеют конечный остаток 0\n"
     ]
    }
   ],
   "source": [
    "# Ограничение все промежуточные операции имеют конечный остаток 0\n",
    "log_print('{0} : Ограничение все промежуточные операции имеют конечный остаток 0'\n",
    "          .format(time.strftime(\"%d/%m/%Y, %H:%M:%S\",time.localtime())), log_file)\n",
    "\n",
    "TEMP_BD = BD[BD['Промежуточная операция'] == 1]\n",
    "for n_str in TEMP_BD.index:\n",
    "    model.add_constraint(vars_ost[n_str] == 0, ctname = 'con_PO_'+str(n_str))"
   ]
  },
  {
   "cell_type": "code",
   "execution_count": 34,
   "id": "a277fd44",
   "metadata": {
    "scrolled": true
   },
   "outputs": [
    {
     "name": "stdout",
     "output_type": "stream",
     "text": [
      "22/03/2023, 20:19:57 : Вносим универсальные ограничения\n"
     ]
    }
   ],
   "source": [
    "#Вносим таблицу ограничений\n",
    "log_print('{0} : Вносим универсальные ограничения'.format(time.strftime(\"%d/%m/%Y, %H:%M:%S\",time.localtime())), log_file)\n",
    "tab_Ogr_zag_list= tab_Ogr_zag.values.tolist()\n",
    "tab_Ogr.columns = tab_Ogr_zag_list[0]\n",
    "#del tab_Ogr_zag_list\n",
    "#del tab_Ogr_zag\n",
    "try:\n",
    "    tab_Ogr['День'] = tab_Ogr['День'].map(datetime.datetime.date)\n",
    "except:\n",
    "    pass"
   ]
  },
  {
   "cell_type": "code",
   "execution_count": 35,
   "id": "da47cb76",
   "metadata": {},
   "outputs": [],
   "source": [
    "#Универсальный ограничитель\n",
    "for n_ogr in tab_Ogr.index:\n",
    "    ogr_col_str = ''\n",
    "    for ogr_col in tab_Ogr.columns[1:-2]:\n",
    "        if pd.notnull(tab_Ogr.at[n_ogr, ogr_col]): \n",
    "            ogr_col_str = ogr_col_str + ' & ' if ogr_col_str != '' else '' #Добавляем к строке &\n",
    "            ogr_value_str =   str(tab_Ogr.at[n_ogr, ogr_col]) if (not isinstance(tab_Ogr.at[n_ogr, ogr_col], str)) and (not isinstance(tab_Ogr.at[n_ogr, ogr_col], datetime.date)) else '\"' +  tab_Ogr.at[n_ogr, ogr_col] + '\"'        #Ограничение\n",
    "            ogr_col_str = ogr_col_str + '`' +str(ogr_col) + '` == ' + ogr_value_str #Формируем строку формулы\n",
    "\n",
    "    if ogr_col_str == \"\":\n",
    "        BD_ind = BD.index.values.tolist()\n",
    "    else:\n",
    "        BD_TEMP = BD.query(ogr_col_str)\n",
    "        if isinstance(tab_Ogr.loc[n_ogr, 'День'], datetime.date):\n",
    "            BD_ind = BD_TEMP[BD_TEMP['День'] == tab_Ogr.loc[n_ogr, 'День']].index.values.tolist()\n",
    "        else:\n",
    "            BD_ind = BD_TEMP.index.values.tolist()\n",
    "    if pd.notnull(tab_Ogr.at[n_ogr, 'Максимум, мин']):\n",
    "        if tab_Ogr.at[n_ogr, 'Максимум, мин'] >= 0:\n",
    "            model.add_constraint(model.sum(vars_time[i] for i in BD_ind) <= round(tab_Ogr.at[n_ogr, 'Максимум, мин']), ctname = 'Gr_const_max_' + str(n_ogr+2)) \n",
    "    if pd.notnull(tab_Ogr.at[n_ogr, 'Минимум, мин']):\n",
    "        if tab_Ogr.at[n_ogr, 'Минимум, мин'] > 0:\n",
    "            model.add_constraint(model.sum(vars_time[i] for i in BD_ind) >= round(tab_Ogr.at[n_ogr, 'Минимум, мин']), ctname = 'Gr_const_min_' + str(n_ogr+2))"
   ]
  },
  {
   "cell_type": "code",
   "execution_count": 36,
   "id": "5c4f17a6",
   "metadata": {
    "scrolled": true
   },
   "outputs": [],
   "source": [
    "#Целевая функция\n",
    "func = model.sum(vars_time[i] * BD.loc[i, 'Коэффициент'] for i in BD.index)"
   ]
  },
  {
   "cell_type": "code",
   "execution_count": 37,
   "id": "aac1bcd4",
   "metadata": {},
   "outputs": [],
   "source": [
    "#Сохраняем конфликты (функция)\n",
    "def save_conflicts(res, log_file):\n",
    "        \"\"\" Displays all conflicts.\n",
    "\n",
    "        \"\"\"\n",
    "        log_print('conflict(s): {0}'.format(res.number_of_conflicts), log_file)\n",
    "        for conflict in res.iter_conflicts():\n",
    "            st = conflict.status\n",
    "            elt = conflict.element\n",
    "            if hasattr(conflict.element, 'as_constraint'):\n",
    "                ct = conflict.element.as_constraint()\n",
    "                label = elt.short_typename\n",
    "            else:\n",
    "                ct = elt\n",
    "                label = ct.__class__.__name__\n",
    "            log_print(\"  - status: {1}, {0}: {2!s}\".format(label, st.name, ct.to_readable_string()), log_file)"
   ]
  },
  {
   "cell_type": "code",
   "execution_count": 38,
   "id": "4da4835d",
   "metadata": {
    "scrolled": true
   },
   "outputs": [
    {
     "name": "stdout",
     "output_type": "stream",
     "text": [
      "22/03/2023, 20:20:17 : Запускаем решатель\n",
      "conflict(s): 0\n"
     ]
    }
   ],
   "source": [
    "#Ограничения времени \n",
    "model.parameters.timelimit.set(timelimit)\n",
    "model.parameters.read.datacheck = 2\n",
    "\n",
    "#Выводим конфликты\n",
    "refiner = ConflictRefiner() \n",
    "res = refiner.refine_conflict(model)\n",
    "\n",
    "log_print('{0} : Запускаем решатель'.format(time.strftime(\"%d/%m/%Y, %H:%M:%S\",time.localtime())), log_file)\n",
    "\n",
    "#Запускаем считалку\n",
    "model.minimize(func)\n",
    "model.solve(log_output = pathLog + \"\\\\docplex_logs_\"+time.strftime(\"%Y%m%d-%H%M%S\")+\".txt\")\n",
    "model.export_to_stream(pathLog + \"\\\\formulas_\"+time.strftime(\"%Y%m%d-%H%M%S\")+' model')\n",
    "save_conflicts(res, log_file)"
   ]
  },
  {
   "cell_type": "code",
   "execution_count": 40,
   "id": "e4757cc3",
   "metadata": {
    "scrolled": true
   },
   "outputs": [
    {
     "name": "stdout",
     "output_type": "stream",
     "text": [
      "22/03/2023, 20:23:05 : Формируем результат\n"
     ]
    }
   ],
   "source": [
    "#Выгружаем результат\n",
    "\n",
    "log_print('{0} : Формируем результат'.format(time.strftime(\"%d/%m/%Y, %H:%M:%S\",time.localtime())), log_file)\n",
    "xw.Range('GAP_факт').options(index=False, header=0).value=model.solve_details.mip_relative_gap\n",
    "xw.Range('res_time').options(index=False, header=0).value=model.solve_details.time\n",
    "BD['Переменная остатка'] = BD.apply(lambda x, vars_ost: vars_ost[x.name].name, axis = 1, args = [vars_ost])\n",
    "BD['Переменная времени'] = BD.apply(lambda x, vars_time: vars_time[x.name].name, axis = 1, args = [vars_time])\n",
    "\n",
    "try:\n",
    "    BD['Время работы'] = pd.Series(model.solution.get_values(vars_time))#.apply(np.ceil)\n",
    "    BD['Остаток на конец'] = pd.Series(model.solution.get_values(vars_ost))\n",
    "    BD2 = BD[BD['Время работы'] > 0]\n",
    "    #BD2 = BD.copy()\n",
    "except:\n",
    "    BD2 = BD[BD['Номер дня'] == 0]\n",
    "    pass\n",
    " "
   ]
  },
  {
   "cell_type": "code",
   "execution_count": 41,
   "id": "26dd3494",
   "metadata": {},
   "outputs": [],
   "source": [
    "#Определяем реальные сроки ПЗ (функция)\n",
    "def real_PZ(x, BD2, PZ):\n",
    "    temp_BD = BD2[(BD2['Номенклатура вых изд'] == x['Номенклатура']) & \n",
    "                 (BD2['Характеристика номенклатуры вых изд'] == x['Характеристика номенклатуры'])]\n",
    "    sum_PZ = PZ[(PZ['Номенклатура'] == x['Номенклатура']) & \n",
    "                (PZ['Характеристика номенклатуры'] == x['Характеристика номенклатуры']) &\n",
    "                (PZ['Дата сдачи'] <= x['Дата сдачи'])]['Количество Остаток'].sum() - 1\n",
    "    for ind in temp_BD.index:\n",
    "        if temp_BD.loc[ind, 'Остаток на конец'] >= sum_PZ:\n",
    "            return temp_BD.loc[ind, 'День']\n",
    "        "
   ]
  },
  {
   "cell_type": "code",
   "execution_count": 42,
   "id": "db76dab4",
   "metadata": {
    "scrolled": true
   },
   "outputs": [
    {
     "name": "stdout",
     "output_type": "stream",
     "text": [
      "22/03/2023, 20:23:09 : Определяем реальные сроки ПЗ\n"
     ]
    },
    {
     "name": "stderr",
     "output_type": "stream",
     "text": [
      "C:\\Users\\mgvse\\Anaconda3\\envs\\py36\\lib\\site-packages\\ipykernel_launcher.py:9: SettingWithCopyWarning: \n",
      "A value is trying to be set on a copy of a slice from a DataFrame.\n",
      "Try using .loc[row_indexer,col_indexer] = value instead\n",
      "\n",
      "See the caveats in the documentation: https://pandas.pydata.org/pandas-docs/stable/user_guide/indexing.html#returning-a-view-versus-a-copy\n",
      "  if __name__ == '__main__':\n",
      "C:\\Users\\mgvse\\Anaconda3\\envs\\py36\\lib\\site-packages\\ipykernel_launcher.py:10: SettingWithCopyWarning: \n",
      "A value is trying to be set on a copy of a slice from a DataFrame.\n",
      "Try using .loc[row_indexer,col_indexer] = value instead\n",
      "\n",
      "See the caveats in the documentation: https://pandas.pydata.org/pandas-docs/stable/user_guide/indexing.html#returning-a-view-versus-a-copy\n",
      "  # Remove the CWD from sys.path while we load stuff.\n",
      "C:\\Users\\mgvse\\Anaconda3\\envs\\py36\\lib\\site-packages\\ipykernel_launcher.py:17: SettingWithCopyWarning: \n",
      "A value is trying to be set on a copy of a slice from a DataFrame.\n",
      "Try using .loc[row_indexer,col_indexer] = value instead\n",
      "\n",
      "See the caveats in the documentation: https://pandas.pydata.org/pandas-docs/stable/user_guide/indexing.html#returning-a-view-versus-a-copy\n"
     ]
    }
   ],
   "source": [
    "#Определяем реальные сроки ПЗ\n",
    "log_print('{0} : Определяем реальные сроки ПЗ'.format(time.strftime(\"%d/%m/%Y, %H:%M:%S\",time.localtime())), log_file)\n",
    "try:\n",
    "    PZ['Дата сдачи (план)'] = PZ.apply(real_PZ, args = [BD2, PZ], axis = 1)\n",
    "    PZ['Остаток на начало'] = PZ.apply(lambda x, OST: OST[(OST['Номенклатура'] == x['Номенклатура']) & \n",
    "                            (OST['Характеристика номенклатуры'] == \n",
    "                             x['Характеристика номенклатуры'])]['Количество Остаток'].sum()\n",
    "                                       ,axis = 1, args = [OST])\n",
    "    BD2['Дата сдачи (план)'] = BD2.apply(lambda x, PZ: PZ.loc[x['строка ПЗ'], 'Дата сдачи (план)'].max(), args = [PZ], axis = 1)\n",
    "    BD2['Объем производства'] = BD2.apply(lambda x: x['Время работы'] * x['Производство в минуту'], axis = 1).round()\n",
    "    PZ['Объем производства'] = PZ.apply(lambda x, BD2: BD2[(BD2['Номенклатура вых изд'] == x['Номенклатура']) & \n",
    "                                                           (BD2['Характеристика номенклатуры вых изд'] == x['Характеристика номенклатуры']) &\n",
    "                                                          (BD2['ПЗ'] > 0)]['Объем производства'].sum()\n",
    "                                       , axis = 1 , args = [BD2])\n",
    "    PZ['Остаток на конец'] = PZ.apply(lambda x: x['Остаток на начало'] + x['Объем производства'], axis = 1)\n",
    "    BD2['Остаток на начало'] = BD2.apply(lambda x, BD, day_len: BD.loc[x.name - day_len]['Остаток на конец'] if x['Номер дня'] > 0 else\n",
    "                                        x['Остаток на начало'], axis=1, args = [BD, day_len])\n",
    "except:\n",
    "    pass"
   ]
  },
  {
   "cell_type": "code",
   "execution_count": 43,
   "id": "02aec7d8",
   "metadata": {
    "scrolled": true
   },
   "outputs": [
    {
     "name": "stdout",
     "output_type": "stream",
     "text": [
      "22/03/2023, 20:23:16 : Сохраняем результат в отдельном файле C:\\Users\\mgvse\\КЭАЗ\\logs\\result_20230322-202316.xlsx\n"
     ]
    }
   ],
   "source": [
    "#Сохраняем результат в отдельном файле\n",
    "fname = pathLog + \"\\\\result_\"+time.strftime(\"%Y%m%d-%H%M%S\")+\".xlsx\"\n",
    "log_print('{0} : Сохраняем результат в отдельном файле {1}'.format(time.strftime(\"%d/%m/%Y, %H:%M:%S\",time.localtime()), fname), log_file)\n",
    "writer = pd.ExcelWriter(fname, engine = 'openpyxl')\n",
    "BD2.to_excel(writer, sheet_name = 'План производства')\n",
    "PZ.to_excel(writer, sheet_name = 'ПЗ')\n",
    "POTR.to_excel(writer, sheet_name = 'Потребности ТМЦ')\n",
    "writer.close()\n",
    "xw.Range('last_result').options(index=False, header=0).value= fname"
   ]
  },
  {
   "cell_type": "code",
   "execution_count": 44,
   "id": "7791b6c9",
   "metadata": {},
   "outputs": [],
   "source": [
    "#Разбиваем результат по цехам\n",
    "pathRep = pathLog + '\\\\results_'+time.strftime(\"%Y%m%d-%H%M%S\")\n",
    "if not os.path.exists(pathRep):\n",
    "        os.mkdir(pathRep)\n",
    "\n",
    "if res_ceh_flag:\n",
    "    BD3 = BD2[['Технологическая карта.Подразделение', 'День', 'Номенклатура вых изд', 'Характеристика номенклатуры вых изд',\n",
    "              'Рабочий центр', 'Объем производства']].reset_index(drop = True)\n",
    "    BD3.columns = ['Подразделение', 'Дата', 'Номенклатура', 'Характеристика', 'Рабочий центр', 'Кол-во']\n",
    "    \n",
    "    cehs = BD3['Подразделение'].drop_duplicates()\n",
    "    for ceh in cehs:\n",
    "        BD3[BD3['Подразделение'] == ceh].reset_index(drop = True).to_excel(pathRep + '\\\\' + ceh + '_'+time.strftime(\"%Y%m%d-%H%M%S\") + '.xlsx', engine = 'openpyxl')\n"
   ]
  },
  {
   "cell_type": "code",
   "execution_count": 45,
   "id": "8b8b7fb6",
   "metadata": {},
   "outputs": [
    {
     "data": {
      "text/plain": [
       "docplex.mp.solution.SolveSolution(obj=1.05216e+09,values={var_time_0_0:0.."
      ]
     },
     "execution_count": 45,
     "metadata": {},
     "output_type": "execute_result"
    }
   ],
   "source": [
    "model.solution"
   ]
  },
  {
   "cell_type": "code",
   "execution_count": null,
   "id": "8c63ea3c",
   "metadata": {},
   "outputs": [],
   "source": []
  },
  {
   "cell_type": "code",
   "execution_count": null,
   "id": "39860990",
   "metadata": {},
   "outputs": [],
   "source": []
  },
  {
   "cell_type": "code",
   "execution_count": null,
   "id": "50356e75",
   "metadata": {},
   "outputs": [],
   "source": []
  }
 ],
 "metadata": {
  "celltoolbar": "Необработанный формат ячейки",
  "kernelspec": {
   "display_name": "Python 3",
   "language": "python",
   "name": "python3"
  },
  "language_info": {
   "codemirror_mode": {
    "name": "ipython",
    "version": 3
   },
   "file_extension": ".py",
   "mimetype": "text/x-python",
   "name": "python",
   "nbconvert_exporter": "python",
   "pygments_lexer": "ipython3",
   "version": "3.6.13"
  }
 },
 "nbformat": 4,
 "nbformat_minor": 5
}
